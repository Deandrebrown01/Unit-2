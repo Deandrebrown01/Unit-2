{
 "cells": [
  {
   "cell_type": "markdown",
   "metadata": {},
   "source": [
    "# File Operations\n",
    "In this excercise you will begin working on using the `open` function within python to manipulate files and create reports on those files.\n",
    "\n",
    "**YOU ARE TO INCLUDE COMMENTS ALONG SIDE YOUR CODE**"
   ]
  },
  {
   "attachments": {},
   "cell_type": "markdown",
   "metadata": {},
   "source": [
    "1. Open the file \"states.txt\" that you downloaded, what does this file contain?\n",
    "```\n",
    "In this file it contains the different states abbreviated over and over again. It's sort of like a loop\n",
    "```"
   ]
  },
  {
   "cell_type": "markdown",
   "metadata": {},
   "source": [
    "\n",
    "*Use the code block below to open the same file, using a `for` loop print each line to the console.*"
   ]
  },
  {
   "cell_type": "code",
   "execution_count": null,
   "metadata": {},
   "outputs": [
    {
     "ename": "",
     "evalue": "",
     "output_type": "error",
     "traceback": [
      "\u001b[1;31mRunning cells with 'c:\\Users\\Brandon\\AppData\\Local\\Microsoft\\WindowsApps\\python3.11.exe' requires the ipykernel package.\n",
      "\u001b[1;31mRun the following command to install 'ipykernel' into the Python environment. \n",
      "\u001b[1;31mCommand: 'c:/Users/Brandon/AppData/Local/Microsoft/WindowsApps/python3.11.exe -m pip install ipykernel -U --user --force-reinstall'"
     ]
    }
   ],
   "source": [
    "files=open(\"states.txt\",\"r\")\n",
    "\n",
    "for x in files:\n",
    "  print(files.readline())\n",
    "  print(files.readline())\n",
    "  print(files.readline())\n",
    "  print(files.readline())\n",
    "  print(files.readline())\n"
   ]
  },
  {
   "attachments": {},
   "cell_type": "markdown",
   "metadata": {},
   "source": [
    "2. What type of chart would be best to represent this data? Explain why\n",
    "```\n",
    "The type of chart that would be best to represent this data\n",
    "```\n",
    "3. How would we need to transform the data we have, to be displayed in this chart?\n",
    "```\n",
    "\n",
    "```"
   ]
  },
  {
   "cell_type": "markdown",
   "metadata": {},
   "source": [
    "Using your knowledge of Python and Matplotlib write your code to transform and graph the data below.\n",
    "\n",
    "After your code create a new Markdown block to describe your analysis"
   ]
  },
  {
   "cell_type": "code",
   "execution_count": null,
   "metadata": {},
   "outputs": [],
   "source": []
  },
  {
   "cell_type": "markdown",
   "metadata": {},
   "source": []
  }
 ],
 "metadata": {
  "kernelspec": {
   "display_name": "Python 3",
   "language": "python",
   "name": "python3"
  },
  "language_info": {
   "name": "python",
   "version": "3.11.6"
  },
  "vscode": {
   "interpreter": {
    "hash": "b0fa6594d8f4cbf19f97940f81e996739fb7646882a419484c72d19e05852a7e"
   }
  }
 },
 "nbformat": 4,
 "nbformat_minor": 2
}

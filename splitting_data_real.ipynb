{
 "cells": [
  {
   "cell_type": "markdown",
   "metadata": {},
   "source": [
    "# Splitting Data\n",
    "In this lab you will begin working with data sets with multiple peices of information. Multiple pieces of information is normally stored in format called **CSV** which stands for Comma Seperate Values.\n",
    "\n",
    "For any questions, edit the appropriate markdown block and answer between the ` ``` ``` ` using complete sentences. \n",
    "\n",
    "For any code blocks you are to include comments explaining your code to recieve full credit."
   ]
  },
  {
   "attachments": {},
   "cell_type": "markdown",
   "metadata": {},
   "source": [
    "1. Open the file `sales.csv` in VSCode, how is the data organized? How can you differentiate between the various pieces of information included in this data set?\n",
    "```\n",
    "In the sales.csv file in VScode the data is organized by name first then a comma with the subtotal, total,then the date. You can tell the difference between the various pieces of information included in this data set by looking at the different numbers at the end.\n",
    "```\n",
    "\n",
    "2. Is this a effective method of storing data? Why or why not?\n",
    "```\n",
    "This is an affecting method of storing data because it keeps the data organized and it is clearly stated what the numbers represent.\n",
    "\n",
    "```\n",
    "\n",
    "3. What types of information is stored in this file? How could this information be used by a business?\n",
    "```\n",
    "The types of information that is stored in this file is peoples names, subtotal,total, and the date they purchased something. This information could be used by a business by they can use it to track how much a person has paid and keep it in their database.\n",
    "\n",
    "```\n",
    "\n",
    "4. How would we seperate each piece of information to be used in a python program?\n",
    "```\n",
    "In a python program we would seperate each piece of information using commas\n",
    "```"
   ]
  },
  {
   "cell_type": "markdown",
   "metadata": {},
   "source": [
    "*Use the code block below to open `sales.csv` with python. Then create a variable called `content` which is equal to a list of each line of the file*"
   ]
  },
  {
   "cell_type": "code",
   "execution_count": 5,
   "metadata": {},
   "outputs": [],
   "source": [
    "sales=open(\"sales.csv\")\n",
    "content=[]"
   ]
  },
  {
   "cell_type": "markdown",
   "metadata": {},
   "source": [
    "*Using the `split` function and a `for` loop calculate the total sales in a month*\n",
    "\n",
    "*Hint: you will need a seperate variable for each month*"
   ]
  },
  {
   "cell_type": "code",
   "execution_count": 15,
   "metadata": {},
   "outputs": [
    {
     "ename": "AttributeError",
     "evalue": "'list' object has no attribute 'split'",
     "output_type": "error",
     "traceback": [
      "\u001b[0;31m---------------------------------------------------------------------------\u001b[0m",
      "\u001b[0;31mAttributeError\u001b[0m                            Traceback (most recent call last)",
      "Cell \u001b[0;32mIn[15], line 3\u001b[0m\n\u001b[1;32m      1\u001b[0m month\u001b[39m=\u001b[39m[\u001b[39m\"\u001b[39m\u001b[39mOct\u001b[39m\u001b[39m\"\u001b[39m, \u001b[39m\"\u001b[39m\u001b[39mNov\u001b[39m\u001b[39m\"\u001b[39m,\u001b[39m\"\u001b[39m\u001b[39mDec\u001b[39m\u001b[39m\"\u001b[39m]\n\u001b[1;32m      2\u001b[0m \u001b[39mfor\u001b[39;00m every \u001b[39min\u001b[39;00m month:\n\u001b[0;32m----> 3\u001b[0m     month\u001b[39m.\u001b[39;49msplit(\u001b[39m\"\u001b[39m\u001b[39m,\u001b[39m\u001b[39m\"\u001b[39m)\n",
      "\u001b[0;31mAttributeError\u001b[0m: 'list' object has no attribute 'split'"
     ]
    }
   ],
   "source": [
    "month=[\"Oct\", \"Nov\",\"Dec\"]\n",
    "for every in month:\n",
    "    month.split(\",\")"
   ]
  },
  {
   "cell_type": "markdown",
   "metadata": {},
   "source": [
    "*Using your calculated total sales create a graph to represent this data and write a written analysis*"
   ]
  },
  {
   "cell_type": "code",
   "execution_count": null,
   "metadata": {},
   "outputs": [],
   "source": []
  },
  {
   "cell_type": "markdown",
   "metadata": {},
   "source": []
  },
  {
   "cell_type": "markdown",
   "metadata": {},
   "source": [
    "*Using the `split` function, seperate each row of data. Then append the customer's name to a list called `customers`*"
   ]
  },
  {
   "cell_type": "code",
   "execution_count": null,
   "metadata": {},
   "outputs": [],
   "source": [
    "Customers=[]"
   ]
  },
  {
   "cell_type": "markdown",
   "metadata": {},
   "source": [
    "Run the following code, and analyze the output"
   ]
  },
  {
   "cell_type": "code",
   "execution_count": null,
   "metadata": {},
   "outputs": [
    {
     "name": "stdout",
     "output_type": "stream",
     "text": [
      "Counter({'B': 5, 'A': 3, 'C': 2})\n"
     ]
    }
   ],
   "source": [
    "from collections import Counter\n",
    "\n",
    "letters = ['B','B','A','B','C','A','B','B','A','C']\n",
    "\n",
    "letters_count = Counter(letters)\n",
    "\n",
    "print(letters_count)"
   ]
  },
  {
   "attachments": {},
   "cell_type": "markdown",
   "metadata": {},
   "source": [
    "5. What was the output of the above code block? What did it accomplish?\n",
    "```\n",
    "The output of the above code block is how many letters there are in the list. It accomplished counting how many letters there are in the alphabet in the code\n",
    "```\n",
    "6. What is the format of the output? What data type does it most relate to?\n",
    "```\n",
    "The format of the output is its a counter and in each letter theres a number. The data type that this mostly relates to is \n",
    "```"
   ]
  },
  {
   "cell_type": "markdown",
   "metadata": {},
   "source": [
    "*Using the `Counter` from the `collections` library, and your list of customers create a graph to represent this data and write a written analysis*"
   ]
  },
  {
   "cell_type": "code",
   "execution_count": null,
   "metadata": {},
   "outputs": [],
   "source": [
    "from collections import Counter\n",
    "\n",
    "Customers=[\"\"]"
   ]
  },
  {
   "cell_type": "markdown",
   "metadata": {},
   "source": []
  }
 ],
 "metadata": {
  "kernelspec": {
   "display_name": "Python 3",
   "language": "python",
   "name": "python3"
  },
  "language_info": {
   "codemirror_mode": {
    "name": "ipython",
    "version": 3
   },
   "file_extension": ".py",
   "mimetype": "text/x-python",
   "name": "python",
   "nbconvert_exporter": "python",
   "pygments_lexer": "ipython3",
   "version": "3.10.8"
  },
  "vscode": {
   "interpreter": {
    "hash": "b0fa6594d8f4cbf19f97940f81e996739fb7646882a419484c72d19e05852a7e"
   }
  }
 },
 "nbformat": 4,
 "nbformat_minor": 2
}
